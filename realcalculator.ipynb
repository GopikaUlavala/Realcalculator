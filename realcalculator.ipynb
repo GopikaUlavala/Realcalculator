{
 "cells": [
  {
   "cell_type": "code",
   "execution_count": 15,
   "id": "f448d040",
   "metadata": {},
   "outputs": [
    {
     "name": "stdout",
     "output_type": "stream",
     "text": [
      "Enter problem like Eg:5+6:20 / 5\n",
      "The division of 20 and 5 is 4.0\n"
     ]
    }
   ],
   "source": [
    "def add(a,b):\n",
    "    addition=a+b\n",
    "    print(\"The sum of {0} and {1} is {2}\".format(a,b,addition))\n",
    "def sub(a,b):\n",
    "    substraction=a-b\n",
    "    print(\"The difference of {0} and {1} is {2}\".format(a,b,substraction))\n",
    "def mul(a,b):\n",
    "    multiplication=a*b\n",
    "    print(\"The multiplication of {0} and {1} is {2}\".format(a,b,multiplication))\n",
    "def div(a,b):\n",
    "    division=a/b\n",
    "    print(\"The division of {0} and {1} is {2}\".format(a,b,division))\n",
    "def rem(a,b):\n",
    "    reminder=a%b\n",
    "    print(\"The reminder of {0} and {1} is {2}\".format(a,b,reminder))\n",
    "num1,op,num2 = map(str,input(\"Enter problem like Eg:5+6:\").split())\n",
    "num1=int(num1)\n",
    "num2=int(num2)\n",
    "if op=='+':\n",
    "    add(num1,num2)\n",
    "elif op=='-':\n",
    "    sub(num1,num2)\n",
    "elif op=='*':\n",
    "    mul(num1,num2)\n",
    "elif op=='/':\n",
    "    div(num1,num2)\n",
    "elif op=='%':\n",
    "    rem(num1,num2)\n",
    "else:\n",
    "    print(\"Invalid equation:\")"
   ]
  },
  {
   "cell_type": "code",
   "execution_count": null,
   "id": "3063a347",
   "metadata": {},
   "outputs": [],
   "source": []
  },
  {
   "cell_type": "code",
   "execution_count": null,
   "id": "7deb596c",
   "metadata": {},
   "outputs": [],
   "source": []
  }
 ],
 "metadata": {
  "kernelspec": {
   "display_name": "Python 3",
   "language": "python",
   "name": "python3"
  },
  "language_info": {
   "codemirror_mode": {
    "name": "ipython",
    "version": 3
   },
   "file_extension": ".py",
   "mimetype": "text/x-python",
   "name": "python",
   "nbconvert_exporter": "python",
   "pygments_lexer": "ipython3",
   "version": "3.8.8"
  }
 },
 "nbformat": 4,
 "nbformat_minor": 5
}
